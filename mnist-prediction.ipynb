{
 "cells": [
  {
   "cell_type": "code",
   "execution_count": 1,
   "id": "9cf2e40d",
   "metadata": {
    "execution": {
     "iopub.execute_input": "2024-04-16T15:05:58.685294Z",
     "iopub.status.busy": "2024-04-16T15:05:58.684952Z",
     "iopub.status.idle": "2024-04-16T15:05:59.476345Z",
     "shell.execute_reply": "2024-04-16T15:05:59.475466Z"
    },
    "papermill": {
     "duration": 0.798432,
     "end_time": "2024-04-16T15:05:59.478859",
     "exception": false,
     "start_time": "2024-04-16T15:05:58.680427",
     "status": "completed"
    },
    "tags": []
   },
   "outputs": [],
   "source": [
    "import numpy as np # linear algebra\n",
    "import pandas as pd # data processing, CSV file I/O (e.g. pd.read_csv)\n",
    "from matplotlib import pyplot as plt"
   ]
  },
  {
   "cell_type": "code",
   "execution_count": 2,
   "id": "3bda88a5",
   "metadata": {
    "execution": {
     "iopub.execute_input": "2024-04-16T15:05:59.487306Z",
     "iopub.status.busy": "2024-04-16T15:05:59.486875Z",
     "iopub.status.idle": "2024-04-16T15:06:02.919324Z",
     "shell.execute_reply": "2024-04-16T15:06:02.918132Z"
    },
    "papermill": {
     "duration": 3.438909,
     "end_time": "2024-04-16T15:06:02.921852",
     "exception": false,
     "start_time": "2024-04-16T15:05:59.482943",
     "status": "completed"
    },
    "tags": []
   },
   "outputs": [],
   "source": [
    "data = pd.read_csv('/kaggle/input/digitrec/train.csv')"
   ]
  },
  {
   "cell_type": "code",
   "execution_count": 3,
   "id": "7227c96e",
   "metadata": {
    "execution": {
     "iopub.execute_input": "2024-04-16T15:06:02.928425Z",
     "iopub.status.busy": "2024-04-16T15:06:02.928063Z",
     "iopub.status.idle": "2024-04-16T15:06:03.599507Z",
     "shell.execute_reply": "2024-04-16T15:06:03.598294Z"
    },
    "papermill": {
     "duration": 0.678131,
     "end_time": "2024-04-16T15:06:03.602506",
     "exception": false,
     "start_time": "2024-04-16T15:06:02.924375",
     "status": "completed"
    },
    "tags": []
   },
   "outputs": [],
   "source": [
    "data = np.array(data)\n",
    "m, n = data.shape\n",
    "np.random.shuffle(data)\n",
    "data_train = data[1000:m].T\n",
    "Y_train = data_train[0]\n",
    "X_train = data_train[1:n]"
   ]
  },
  {
   "cell_type": "code",
   "execution_count": 4,
   "id": "00a5324e",
   "metadata": {
    "execution": {
     "iopub.execute_input": "2024-04-16T15:06:03.610110Z",
     "iopub.status.busy": "2024-04-16T15:06:03.609287Z",
     "iopub.status.idle": "2024-04-16T15:06:03.620541Z",
     "shell.execute_reply": "2024-04-16T15:06:03.619611Z"
    },
    "papermill": {
     "duration": 0.017036,
     "end_time": "2024-04-16T15:06:03.622543",
     "exception": false,
     "start_time": "2024-04-16T15:06:03.605507",
     "status": "completed"
    },
    "tags": []
   },
   "outputs": [],
   "source": [
    "def init_params():\n",
    "    W1 = np.random.rand(10, 784) - 0.5\n",
    "    b1 = np.random.rand(10, 1) - 0.5\n",
    "    W2 = np.random.rand(10, 10) - 0.5\n",
    "    b2 = np.random.rand(10, 1) - 0.5\n",
    "    return W1, b1, W2, b2\n",
    "\n",
    "def ReLU(Z):\n",
    "    return np.maximum(0, Z)\n",
    "\n",
    "def Softmax(Z):\n",
    "    ex = np.exp(Z - np.max(Z))\n",
    "    return ex / ex.sum() \n",
    "\n",
    "def forward_prop(W1, b1, W2, b2, X):\n",
    "    Z1 = W1.dot(X) + b1\n",
    "    A1 = ReLU(Z1)\n",
    "    Z2 = W2.dot(A1) + b2\n",
    "    A2 = Softmax(Z2)\n",
    "    return Z1, A1, Z2, A2\n",
    "\n",
    "def One_Hot(Y):\n",
    "    one_hot_Y = np.zeros((Y.size, Y.max() + 1))\n",
    "    one_hot_Y[np.arange(Y.size), Y] = 1\n",
    "    one_hot_Y = one_hot_Y.T\n",
    "    return one_hot_Y\n",
    "\n",
    "def derive_ReLU(Z):\n",
    "    return Z > 0\n",
    "\n",
    "def backward_prop(Z1, A1, Z2, A2, X, Y):\n",
    "    m = Y.size\n",
    "    one_hot_y = One_Hot(Y)\n",
    "    dz2 = A2 - one_hot_y\n",
    "    dw2 = 1/m * dz2.dot(A1.T)\n",
    "    db2 = 1/m * np.sum(dz2)\n",
    "    dz1 = dw2.T.dot(dz2) * derive_ReLU(Z1)\n",
    "    dw1 = 1/m * dz1.dot(X.T)\n",
    "    db1 = 1/m * np.sum(dz1)\n",
    "    return dw1, db1, dw2, db2\n",
    "\n",
    "def update_params(W1, b1, W2, b2, dw1, db1, dw2, db2, alpha):\n",
    "    W1 = W1 - alpha * dw1\n",
    "    b1 = b1 - alpha * db1\n",
    "    W2 = W2 - alpha * dw2\n",
    "    b2 = b2 - alpha * db2\n",
    "    return W1, b1, W2, b2"
   ]
  },
  {
   "cell_type": "code",
   "execution_count": 5,
   "id": "32435d33",
   "metadata": {
    "execution": {
     "iopub.execute_input": "2024-04-16T15:06:03.629723Z",
     "iopub.status.busy": "2024-04-16T15:06:03.629044Z",
     "iopub.status.idle": "2024-04-16T15:06:03.637076Z",
     "shell.execute_reply": "2024-04-16T15:06:03.635804Z"
    },
    "papermill": {
     "duration": 0.01442,
     "end_time": "2024-04-16T15:06:03.639584",
     "exception": false,
     "start_time": "2024-04-16T15:06:03.625164",
     "status": "completed"
    },
    "tags": []
   },
   "outputs": [],
   "source": [
    "def get_predictions(A2):\n",
    "    return np.argmax(A2, 0)\n",
    "\n",
    "def get_Accuracy(predictions, Y):\n",
    "    print(predictions, Y)\n",
    "    return np.sum(predictions == Y) / Y.size\n",
    "\n",
    "def gradient_descent(X, Y, iterations, alpha):\n",
    "    W1, b1, W2, b2 = init_params()\n",
    "    for i in range(iterations):\n",
    "        Z1, A1, Z2, A2 = forward_prop(W1, b1, W2, b2, X)\n",
    "        dw1, db1, dw2, db2 = backward_prop(Z1, A1, Z2, A2, X, Y)\n",
    "        W1, b1, W2, b2 = update_params(W1, b1, W2, b2, dw1, db1, dw2, db2, alpha)\n",
    "        if i % 50 == 0:\n",
    "            print('iteration: ', i)\n",
    "            print('Accuracy: ', get_Accuracy(get_predictions(A2), Y))\n",
    "    return W1, b1, W2, b2"
   ]
  },
  {
   "cell_type": "code",
   "execution_count": 6,
   "id": "1804ae63",
   "metadata": {
    "execution": {
     "iopub.execute_input": "2024-04-16T15:06:03.646674Z",
     "iopub.status.busy": "2024-04-16T15:06:03.646238Z",
     "iopub.status.idle": "2024-04-16T15:11:52.326312Z",
     "shell.execute_reply": "2024-04-16T15:11:52.325108Z"
    },
    "papermill": {
     "duration": 348.687388,
     "end_time": "2024-04-16T15:11:52.329423",
     "exception": false,
     "start_time": "2024-04-16T15:06:03.642035",
     "status": "completed"
    },
    "tags": []
   },
   "outputs": [
    {
     "name": "stdout",
     "output_type": "stream",
     "text": [
      "iteration:  0\n",
      "[0 0 0 ... 0 0 0] [5 7 3 ... 3 2 6]\n",
      "Accuracy:  0.09809756097560976\n",
      "iteration:  50\n",
      "[4 4 4 ... 4 4 4] [5 7 3 ... 3 2 6]\n",
      "Accuracy:  0.09680487804878049\n",
      "iteration:  100\n",
      "[4 4 4 ... 4 4 4] [5 7 3 ... 3 2 6]\n",
      "Accuracy:  0.09680487804878049\n",
      "iteration:  150\n",
      "[4 4 4 ... 4 4 4] [5 7 3 ... 3 2 6]\n",
      "Accuracy:  0.09680487804878049\n",
      "iteration:  200\n",
      "[4 4 4 ... 4 4 4] [5 7 3 ... 3 2 6]\n",
      "Accuracy:  0.09680487804878049\n",
      "iteration:  250\n",
      "[4 4 4 ... 4 4 4] [5 7 3 ... 3 2 6]\n",
      "Accuracy:  0.09680487804878049\n",
      "iteration:  300\n",
      "[4 4 4 ... 4 4 4] [5 7 3 ... 3 2 6]\n",
      "Accuracy:  0.09680487804878049\n",
      "iteration:  350\n",
      "[4 4 4 ... 4 4 4] [5 7 3 ... 3 2 6]\n",
      "Accuracy:  0.09680487804878049\n",
      "iteration:  400\n",
      "[4 4 4 ... 4 4 4] [5 7 3 ... 3 2 6]\n",
      "Accuracy:  0.09680487804878049\n",
      "iteration:  450\n",
      "[4 4 4 ... 4 4 4] [5 7 3 ... 3 2 6]\n",
      "Accuracy:  0.09680487804878049\n",
      "iteration:  500\n",
      "[4 4 4 ... 4 4 4] [5 7 3 ... 3 2 6]\n",
      "Accuracy:  0.09680487804878049\n",
      "iteration:  550\n",
      "[4 4 4 ... 4 4 4] [5 7 3 ... 3 2 6]\n",
      "Accuracy:  0.09680487804878049\n",
      "iteration:  600\n",
      "[4 4 4 ... 4 4 4] [5 7 3 ... 3 2 6]\n",
      "Accuracy:  0.09680487804878049\n",
      "iteration:  650\n",
      "[4 4 4 ... 4 4 4] [5 7 3 ... 3 2 6]\n",
      "Accuracy:  0.09680487804878049\n",
      "iteration:  700\n",
      "[4 4 4 ... 4 4 4] [5 7 3 ... 3 2 6]\n",
      "Accuracy:  0.09680487804878049\n",
      "iteration:  750\n",
      "[4 4 4 ... 4 4 4] [5 7 3 ... 3 2 6]\n",
      "Accuracy:  0.09680487804878049\n",
      "iteration:  800\n",
      "[4 4 4 ... 4 4 4] [5 7 3 ... 3 2 6]\n",
      "Accuracy:  0.09680487804878049\n",
      "iteration:  850\n",
      "[4 4 4 ... 4 4 4] [5 7 3 ... 3 2 6]\n",
      "Accuracy:  0.09680487804878049\n",
      "iteration:  900\n",
      "[4 4 4 ... 4 4 4] [5 7 3 ... 3 2 6]\n",
      "Accuracy:  0.09680487804878049\n",
      "iteration:  950\n",
      "[4 4 4 ... 4 4 4] [5 7 3 ... 3 2 6]\n",
      "Accuracy:  0.09680487804878049\n"
     ]
    }
   ],
   "source": [
    "W1, b1, W2, b2 = gradient_descent(X_train, Y_train, 1000, 0.1)"
   ]
  }
 ],
 "metadata": {
  "kaggle": {
   "accelerator": "none",
   "dataSources": [
    {
     "datasetId": 4809357,
     "sourceId": 8135730,
     "sourceType": "datasetVersion"
    }
   ],
   "dockerImageVersionId": 30684,
   "isGpuEnabled": false,
   "isInternetEnabled": true,
   "language": "python",
   "sourceType": "notebook"
  },
  "kernelspec": {
   "display_name": "Python 3",
   "language": "python",
   "name": "python3"
  },
  "language_info": {
   "codemirror_mode": {
    "name": "ipython",
    "version": 3
   },
   "file_extension": ".py",
   "mimetype": "text/x-python",
   "name": "python",
   "nbconvert_exporter": "python",
   "pygments_lexer": "ipython3",
   "version": "3.10.13"
  },
  "papermill": {
   "default_parameters": {},
   "duration": 356.835983,
   "end_time": "2024-04-16T15:11:52.872571",
   "environment_variables": {},
   "exception": null,
   "input_path": "__notebook__.ipynb",
   "output_path": "__notebook__.ipynb",
   "parameters": {},
   "start_time": "2024-04-16T15:05:56.036588",
   "version": "2.5.0"
  }
 },
 "nbformat": 4,
 "nbformat_minor": 5
}
