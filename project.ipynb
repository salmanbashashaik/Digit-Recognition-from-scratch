

import numpy as np # linear algebra
import pandas as pd # data processing, CSV file I/O (e.g. pd.read_csv)
from matplotlib import pyplot as plt

data = pd.read_csv('/kaggle/input/digitrec/train.csv')

data = np.array(data)
m, n = data.shape
np.random.shuffle(data)
data_train = data[1000:m].T
Y_train = data_train[0]
X_train = data_train[1:n]

def init_params():
    W1 = np.random.rand(10, 784) - 0.5
    b1 = np.random.rand(10, 1) - 0.5
    W2 = np.random.rand(10, 10) - 0.5
    b2 = np.random.rand(10, 1) - 0.5
    return W1, b1, W2, b2

def ReLU(Z):
    return np.maximum(0, Z)

def Softmax(Z):
    ex = np.exp(Z - np.max(Z))
    return ex / ex.sum() 

def forward_prop(W1, b1, W2, b2, X):
    Z1 = W1.dot(X) + b1
    A1 = ReLU(Z1)
    Z2 = W2.dot(A1) + b2
    A2 = Softmax(Z2)
    return Z1, A1, Z2, A2

def One_Hot(Y):
    one_hot_Y = np.zeros((Y.size, Y.max() + 1))
    one_hot_Y[np.arange(Y.size), Y] = 1
    one_hot_Y = one_hot_Y.T
    return one_hot_Y

def derive_ReLU(Z):
    return Z > 0

def backward_prop(Z1, A1, Z2, A2, X, Y):
    m = Y.size
    one_hot_y = One_Hot(Y)
    dz2 = A2 - one_hot_y
    dw2 = 1/m * dz2.dot(A1.T)
    db2 = 1/m * np.sum(dz2)
    dz1 = dw2.T.dot(dz2) * derive_ReLU(Z1)
    dw1 = 1/m * dz1.dot(X.T)
    db1 = 1/m * np.sum(dz1)
    return dw1, db1, dw2, db2

def update_params(W1, b1, W2, b2, dw1, db1, dw2, db2, alpha):
    W1 = W1 - alpha * dw1
    b1 = b1 - alpha * db1
    W2 = W2 - alpha * dw2
    b2 = b2 - alpha * db2
    return W1, b1, W2, b2

def get_predictions(A2):
    return np.argmax(A2, 0)

def get_Accuracy(predictions, Y):
    print(predictions, Y)
    return np.sum(predictions == Y) / Y.size

def gradient_descent(X, Y, iterations, alpha):
    W1, b1, W2, b2 = init_params()
    for i in range(iterations):
        Z1, A1, Z2, A2 = forward_prop(W1, b1, W2, b2, X)
        dw1, db1, dw2, db2 = backward_prop(Z1, A1, Z2, A2, X, Y)
        W1, b1, W2, b2 = update_params(W1, b1, W2, b2, dw1, db1, dw2, db2, alpha)
        if i % 50 == 0:
            print('iteration: ', i)
            print('Accuracy: ', get_Accuracy(get_predictions(A2), Y))
    return W1, b1, W2, b2

W1, b1, W2, b2 = gradient_descent(X_train, Y_train, 1000, 0.1)

iteration:  0
[0 0 0 ... 0 0 0] [5 7 3 ... 3 2 6]
Accuracy:  0.09809756097560976
iteration:  50
[4 4 4 ... 4 4 4] [5 7 3 ... 3 2 6]
Accuracy:  0.09680487804878049
iteration:  100
[4 4 4 ... 4 4 4] [5 7 3 ... 3 2 6]
Accuracy:  0.09680487804878049
iteration:  150
[4 4 4 ... 4 4 4] [5 7 3 ... 3 2 6]
Accuracy:  0.09680487804878049
iteration:  200
[4 4 4 ... 4 4 4] [5 7 3 ... 3 2 6]
Accuracy:  0.09680487804878049
iteration:  250
[4 4 4 ... 4 4 4] [5 7 3 ... 3 2 6]
Accuracy:  0.09680487804878049
iteration:  300
[4 4 4 ... 4 4 4] [5 7 3 ... 3 2 6]
Accuracy:  0.09680487804878049
iteration:  350
[4 4 4 ... 4 4 4] [5 7 3 ... 3 2 6]
Accuracy:  0.09680487804878049
iteration:  400
[4 4 4 ... 4 4 4] [5 7 3 ... 3 2 6]
Accuracy:  0.09680487804878049
iteration:  450
[4 4 4 ... 4 4 4] [5 7 3 ... 3 2 6]
Accuracy:  0.09680487804878049
iteration:  500

import numpy as np # linear algebra
import pandas as pd # data processing, CSV file I/O (e.g. pd.read_csv)
from matplotlib import pyplot as plt

data = pd.read_csv('/kaggle/input/digitrec/train.csv')

data = np.array(data)
m, n = data.shape
np.random.shuffle(data)
data_train = data[1000:m].T
Y_train = data_train[0]
X_train = data_train[1:n]

def init_params():
    W1 = np.random.rand(10, 784) - 0.5
    b1 = np.random.rand(10, 1) - 0.5
    W2 = np.random.rand(10, 10) - 0.5
    b2 = np.random.rand(10, 1) - 0.5
    return W1, b1, W2, b2

def ReLU(Z):
    return np.maximum(0, Z)

def Softmax(Z):
    ex = np.exp(Z - np.max(Z))
    return ex / ex.sum() 

def forward_prop(W1, b1, W2, b2, X):
    Z1 = W1.dot(X) + b1
    A1 = ReLU(Z1)
    Z2 = W2.dot(A1) + b2
    A2 = Softmax(Z2)
    return Z1, A1, Z2, A2

def One_Hot(Y):
    one_hot_Y = np.zeros((Y.size, Y.max() + 1))
    one_hot_Y[np.arange(Y.size), Y] = 1
    one_hot_Y = one_hot_Y.T
    return one_hot_Y

def derive_ReLU(Z):
    return Z > 0

def backward_prop(Z1, A1, Z2, A2, X, Y):
    m = Y.size
    one_hot_y = One_Hot(Y)
    dz2 = A2 - one_hot_y
    dw2 = 1/m * dz2.dot(A1.T)
    db2 = 1/m * np.sum(dz2)
    dz1 = dw2.T.dot(dz2) * derive_ReLU(Z1)
    dw1 = 1/m * dz1.dot(X.T)
    db1 = 1/m * np.sum(dz1)
    return dw1, db1, dw2, db2

def update_params(W1, b1, W2, b2, dw1, db1, dw2, db2, alpha):
    W1 = W1 - alpha * dw1
    b1 = b1 - alpha * db1
    W2 = W2 - alpha * dw2
    b2 = b2 - alpha * db2
    return W1, b1, W2, b2

def get_predictions(A2):
    return np.argmax(A2, 0)

def get_Accuracy(predictions, Y):
    print(predictions, Y)
    return np.sum(predictions == Y) / Y.size

def gradient_descent(X, Y, iterations, alpha):
    W1, b1, W2, b2 = init_params()
    for i in range(iterations):
        Z1, A1, Z2, A2 = forward_prop(W1, b1, W2, b2, X)
        dw1, db1, dw2, db2 = backward_prop(Z1, A1, Z2, A2, X, Y)
        W1, b1, W2, b2 = update_params(W1, b1, W2, b2, dw1, db1, dw2, db2, alpha)
        if i % 50 == 0:
            print('iteration: ', i)
            print('Accuracy: ', get_Accuracy(get_predictions(A2), Y))
    return W1, b1, W2, b2

W1, b1, W2, b2 = gradient_descent(X_train, Y_train, 1000, 0.1)

iteration:  0
[0 0 0 ... 0 0 0] [5 7 3 ... 3 2 6]
Accuracy:  0.09809756097560976
iteration:  50
[4 4 4 ... 4 4 4] [5 7 3 ... 3 2 6]
Accuracy:  0.09680487804878049
iteration:  100
[4 4 4 ... 4 4 4] [5 7 3 ... 3 2 6]
Accuracy:  0.09680487804878049
iteration:  150
[4 4 4 ... 4 4 4] [5 7 3 ... 3 2 6]
Accuracy:  0.09680487804878049
iteration:  200
[4 4 4 ... 4 4 4] [5 7 3 ... 3 2 6]
Accuracy:  0.09680487804878049
iteration:  250
[4 4 4 ... 4 4 4] [5 7 3 ... 3 2 6]
Accuracy:  0.09680487804878049
iteration:  300
[4 4 4 ... 4 4 4] [5 7 3 ... 3 2 6]
Accuracy:  0.09680487804878049
iteration:  350
[4 4 4 ... 4 4 4] [5 7 3 ... 3 2 6]
Accuracy:  0.09680487804878049
iteration:  400
[4 4 4 ... 4 4 4] [5 7 3 ... 3 2 6]
Accuracy:  0.09680487804878049
iteration:  450
[4 4 4 ... 4 4 4] [5 7 3 ... 3 2 6]
Accuracy:  0.09680487804878049
iteration:  500
[4 4 4 ... 4 4 4] [5 7 3 ... 3 2 6]
Accuracy:  0.09680487804878049
iteration:  550
[4 4 4 ... 4 4 4] [5 7 3 ... 3 2 6]
Accuracy:  0.09680487804878049
iteration:  600
[4 4 4 ... 4 4 4] [5 7 3 ... 3 2 6]
Accuracy:  0.09680487804878049
iteration:  650
[4 4 4 ... 4 4 4] [5 7 3 ... 3 2 6]
Accuracy:  0.09680487804878049
iteration:  700
[4 4 4 ... 4 4 4] [5 7 3 ... 3 2 6]
Accuracy:  0.09680487804878049
iteration:  750
[4 4 4 ... 4 4 4] [5 7 3 ... 3 2 6]
Accuracy:  0.09680487804878049
iteration:  800
[4 4 4 ... 4 4 4] [5 7 3 ... 3 2 6]
Accuracy:  0.09680487804878049
iteration:  850
[4 4 4 ... 4 4 4] [5 7 3 ... 3 2 6]
Accuracy:  0.09680487804878049
iteration:  900
[4 4 4 ... 4 4 4] [5 7 3 ... 3 2 6]
Accuracy:  0.09680487804878049
iteration:  950
[4 4 4 ... 4 4 4] [5 7 3 ... 3 2 6]
Accuracy:  0.09680487804878049


[4 4 4 ... 4 4 4] [5 7 3 ... 3 2 6]
Accuracy:  0.09680487804878049
iteration:  550
[4 4 4 ... 4 4 4] [5 7 3 ... 3 2 6]
Accuracy:  0.09680487804878049
iteration:  600
[4 4 4 ... 4 4 4] [5 7 3 ... 3 2 6]
Accuracy:  0.09680487804878049
iteration:  650
[4 4 4 ... 4 4 4] [5 7 3 ... 3 2 6]
Accuracy:  0.09680487804878049
iteration:  700
[4 4 4 ... 4 4 4] [5 7 3 ... 3 2 6]
Accuracy:  0.09680487804878049
iteration:  750
[4 4 4 ... 4 4 4] [5 7 3 ... 3 2 6]
Accuracy:  0.09680487804878049
iteration:  800
[4 4 4 ... 4 4 4] [5 7 3 ... 3 2 6]
Accuracy:  0.09680487804878049
iteration:  850
[4 4 4 ... 4 4 4] [5 7 3 ... 3 2 6]
Accuracy:  0.09680487804878049
iteration:  900
[4 4 4 ... 4 4 4] [5 7 3 ... 3 2 6]
Accuracy:  0.09680487804878049
iteration:  950
[4 4 4 ... 4 4 4] [5 7 3 ... 3 2 6]
Accuracy:  0.09680487804878049

